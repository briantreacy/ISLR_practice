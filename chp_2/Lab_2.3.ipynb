{
 "cells": [
  {
   "cell_type": "code",
   "execution_count": null,
   "id": "72fc68f3",
   "metadata": {},
   "outputs": [],
   "source": [
    "print('fit a model with', 11, 'variables')"
   ]
  },
  {
   "cell_type": "code",
   "execution_count": null,
   "id": "6337609b",
   "metadata": {},
   "outputs": [],
   "source": [
    "print?"
   ]
  },
  {
   "cell_type": "code",
   "execution_count": null,
   "id": "8f368b06",
   "metadata": {},
   "outputs": [],
   "source": [
    "3+5"
   ]
  },
  {
   "cell_type": "code",
   "execution_count": null,
   "id": "bce28f5b",
   "metadata": {},
   "outputs": [],
   "source": [
    "\"hello\" + \" \" + \"world\""
   ]
  },
  {
   "cell_type": "code",
   "execution_count": null,
   "id": "331df91d",
   "metadata": {},
   "outputs": [],
   "source": [
    "x = [3, 4, 5]\n",
    "x"
   ]
  },
  {
   "cell_type": "code",
   "execution_count": null,
   "id": "bd3d440d",
   "metadata": {},
   "outputs": [],
   "source": [
    "y = [4, 9, 7]\n",
    "x + y"
   ]
  },
  {
   "cell_type": "code",
   "execution_count": null,
   "id": "54bb4c4c",
   "metadata": {},
   "outputs": [],
   "source": [
    "import numpy as np"
   ]
  },
  {
   "cell_type": "code",
   "execution_count": null,
   "id": "537f31e9",
   "metadata": {},
   "outputs": [],
   "source": [
    "x = np.array([3, 4, 5])\n",
    "y = np.array([4, 9, 7])"
   ]
  },
  {
   "cell_type": "code",
   "execution_count": null,
   "id": "56f1abf8",
   "metadata": {},
   "outputs": [],
   "source": [
    "x + y"
   ]
  },
  {
   "cell_type": "code",
   "execution_count": null,
   "id": "0ccbd944",
   "metadata": {},
   "outputs": [],
   "source": [
    "x = np.array([[1, 2], [3, 4]])\n",
    "x"
   ]
  },
  {
   "cell_type": "code",
   "execution_count": null,
   "id": "e89229be",
   "metadata": {},
   "outputs": [],
   "source": [
    "x.ndim"
   ]
  },
  {
   "cell_type": "code",
   "execution_count": null,
   "id": "c6a9c052",
   "metadata": {},
   "outputs": [],
   "source": [
    "x.dtype"
   ]
  },
  {
   "cell_type": "code",
   "execution_count": null,
   "id": "38c23efa",
   "metadata": {},
   "outputs": [],
   "source": [
    "np.array([[1, 2], [3.0, 4]]).dtype"
   ]
  },
  {
   "cell_type": "code",
   "execution_count": null,
   "id": "d6cbfeb1",
   "metadata": {},
   "outputs": [],
   "source": [
    "np.array?"
   ]
  },
  {
   "cell_type": "code",
   "execution_count": null,
   "id": "cfd2564c",
   "metadata": {},
   "outputs": [],
   "source": [
    "np.array([[1, 2], [3, 4]], float).dtype"
   ]
  },
  {
   "cell_type": "code",
   "execution_count": null,
   "id": "78919f1f",
   "metadata": {},
   "outputs": [],
   "source": [
    "x.shape"
   ]
  },
  {
   "cell_type": "code",
   "execution_count": null,
   "id": "3a12a6e9",
   "metadata": {},
   "outputs": [],
   "source": [
    "x = np.array([1, 2, 3, 4])\n",
    "x.sum()"
   ]
  },
  {
   "cell_type": "code",
   "execution_count": null,
   "id": "fea0f37e",
   "metadata": {},
   "outputs": [],
   "source": [
    "np.sum(x)"
   ]
  },
  {
   "cell_type": "code",
   "execution_count": null,
   "id": "e17c8b85",
   "metadata": {},
   "outputs": [],
   "source": [
    "x = np.array([1, 2, 3, 4, 5, 6])\n",
    "print('beginning x:\\n', x)\n",
    "x_reshape = x.reshape((2,3))\n",
    "print('reshaped x:\\n', x_reshape)"
   ]
  },
  {
   "cell_type": "code",
   "execution_count": null,
   "id": "9322acec",
   "metadata": {},
   "outputs": [],
   "source": [
    "x_reshape[0, 0]"
   ]
  },
  {
   "cell_type": "code",
   "execution_count": null,
   "id": "c51913be",
   "metadata": {},
   "outputs": [],
   "source": [
    "x_reshape[1, 2]"
   ]
  },
  {
   "cell_type": "code",
   "execution_count": null,
   "id": "636c9de2",
   "metadata": {},
   "outputs": [],
   "source": [
    "x[2]"
   ]
  },
  {
   "cell_type": "code",
   "execution_count": null,
   "id": "af595b82",
   "metadata": {},
   "outputs": [],
   "source": [
    "print('x before we modify x_reshape:\\n', x)\n",
    "print('x_reshape before we modify x_reshape:\\n', x_reshape)\n",
    "x_reshape[0, 0] = 5\n",
    "print('x_reshape after we modify its top left element:\\n', x_reshape)\n",
    "print('x after we modify top left element of x_reshape:\\n', x)"
   ]
  },
  {
   "cell_type": "code",
   "execution_count": null,
   "id": "60713bb5",
   "metadata": {},
   "outputs": [],
   "source": [
    "my_tuple = (3, 4, 5)\n",
    "my_tuple[0] = 2"
   ]
  },
  {
   "cell_type": "code",
   "execution_count": null,
   "id": "05d9802d",
   "metadata": {},
   "outputs": [],
   "source": [
    "x_reshape.shape, x_reshape.ndim, x_reshape.T"
   ]
  },
  {
   "cell_type": "code",
   "execution_count": null,
   "id": "8ab7b453",
   "metadata": {},
   "outputs": [],
   "source": [
    "np.sqrt(x)"
   ]
  },
  {
   "cell_type": "code",
   "execution_count": null,
   "id": "32ad71f7",
   "metadata": {},
   "outputs": [],
   "source": [
    "x**2"
   ]
  },
  {
   "cell_type": "code",
   "execution_count": null,
   "id": "68a16862",
   "metadata": {},
   "outputs": [],
   "source": [
    "x**0.5"
   ]
  },
  {
   "cell_type": "code",
   "execution_count": null,
   "id": "20058372",
   "metadata": {},
   "outputs": [],
   "source": [
    "np.random.normal?"
   ]
  },
  {
   "cell_type": "code",
   "execution_count": null,
   "id": "c423c0f2",
   "metadata": {},
   "outputs": [],
   "source": [
    "x = np.random.normal(size = 50)\n",
    "x"
   ]
  },
  {
   "cell_type": "code",
   "execution_count": null,
   "id": "68690871",
   "metadata": {},
   "outputs": [],
   "source": [
    "y = x + np.random.normal(loc = 50, scale = 1, size = 50)"
   ]
  },
  {
   "cell_type": "code",
   "execution_count": null,
   "id": "486e203a",
   "metadata": {},
   "outputs": [],
   "source": [
    "np.corrcoef(x, y)"
   ]
  },
  {
   "cell_type": "code",
   "execution_count": null,
   "id": "a70f0849",
   "metadata": {},
   "outputs": [],
   "source": [
    "print(np.random.normal(scale = 5, size = 2))\n",
    "print(np.random.normal(scale = 5, size = 2))"
   ]
  },
  {
   "cell_type": "code",
   "execution_count": null,
   "id": "9921e72b",
   "metadata": {},
   "outputs": [],
   "source": [
    "rng = np.random.default_rng(1303)\n",
    "print(rng.normal(scale=5, size = 2))\n",
    "rng2 = np.random.default_rng(1303)\n",
    "print(rng2.normal(scale = 5, size = 2))"
   ]
  },
  {
   "cell_type": "code",
   "execution_count": null,
   "id": "7554f064",
   "metadata": {},
   "outputs": [],
   "source": [
    "import numpy as np\n",
    "rng = np.random.default_rng(3)\n",
    "y = rng.standard_normal(10)\n",
    "np.mean(y), y.mean()"
   ]
  },
  {
   "cell_type": "code",
   "execution_count": null,
   "id": "fac49274",
   "metadata": {},
   "outputs": [],
   "source": [
    "np.var(y), y.var(), np.mean((y - y.mean())**2)"
   ]
  },
  {
   "cell_type": "code",
   "execution_count": null,
   "id": "d223d6b7",
   "metadata": {},
   "outputs": [],
   "source": [
    "np.var?"
   ]
  },
  {
   "cell_type": "code",
   "execution_count": null,
   "id": "e29470d6",
   "metadata": {},
   "outputs": [],
   "source": [
    "X = rng.standard_normal((10, 3))\n",
    "X"
   ]
  },
  {
   "cell_type": "code",
   "execution_count": null,
   "id": "b5fff1ea",
   "metadata": {},
   "outputs": [],
   "source": [
    "X.mean(axis = 0)"
   ]
  },
  {
   "cell_type": "code",
   "execution_count": null,
   "id": "028deb90",
   "metadata": {},
   "outputs": [],
   "source": [
    "rng = np.random.default_rng(3)"
   ]
  },
  {
   "cell_type": "code",
   "execution_count": null,
   "id": "d060d67d",
   "metadata": {},
   "outputs": [],
   "source": [
    "from matplotlib.pyplot import subplots\n",
    "fig, ax = subplots(figsize = (8, 8))\n",
    "x = rng.standard_normal(100)\n",
    "y = rng.standard_normal(100)\n",
    "ax.plot(x, y);"
   ]
  },
  {
   "cell_type": "code",
   "execution_count": null,
   "id": "241734c0",
   "metadata": {},
   "outputs": [],
   "source": [
    "output = subplots(figsize  = (8, 8))\n",
    "fig = output[0]\n",
    "ax = output[1]"
   ]
  },
  {
   "cell_type": "code",
   "execution_count": null,
   "id": "413ecbc9",
   "metadata": {},
   "outputs": [],
   "source": [
    "fig, ax = subplots(figsize = (8, 8))\n",
    "ax.plot(x, y, 'o')"
   ]
  },
  {
   "cell_type": "code",
   "execution_count": null,
   "id": "a93a37ad",
   "metadata": {},
   "outputs": [],
   "source": [
    "fig, ax = subplots(figsize = (8, 8))\n",
    "ax.scatter(x, y, marker ='o');"
   ]
  },
  {
   "cell_type": "code",
   "execution_count": null,
   "id": "06fedff5",
   "metadata": {},
   "outputs": [],
   "source": [
    "from matplotlib.pyplot import subplots\n",
    "import numpy as np\n",
    "fig, ax = subplots(figsize = (8, 8))\n",
    "rng = np.random.default_rng(3)\n",
    "x = rng.standard_normal(100)\n",
    "y = rng.standard_normal(100)\n",
    "ax.scatter(x, y, marker = 'o');"
   ]
  },
  {
   "cell_type": "code",
   "execution_count": null,
   "id": "2bcd238d",
   "metadata": {},
   "outputs": [],
   "source": [
    "fig, ax = subplots(figsize = (8, 8))\n",
    "ax.scatter(x, y, marker = 'o')\n",
    "ax.set_xlabel('this is the x-axis')\n",
    "ax.set_ylabel('this is the y-axis')\n",
    "ax.set_title('Plot of X vs Y')"
   ]
  },
  {
   "cell_type": "code",
   "execution_count": null,
   "id": "658c57f1",
   "metadata": {},
   "outputs": [],
   "source": [
    "fig.set_size_inches(12, 3)\n",
    "fig"
   ]
  },
  {
   "cell_type": "code",
   "execution_count": null,
   "id": "ee75e4fd",
   "metadata": {},
   "outputs": [],
   "source": [
    "fig, axes = subplots(nrows = 2, ncols = 3, figsize=(15, 5))"
   ]
  },
  {
   "cell_type": "code",
   "execution_count": null,
   "id": "84582cce",
   "metadata": {},
   "outputs": [],
   "source": [
    "axes[0, 1].plot(x, y, 'o')\n",
    "axes[1, 2].scatter(x, y, marker = '+')\n",
    "fig"
   ]
  },
  {
   "cell_type": "code",
   "execution_count": null,
   "id": "b9e1c196",
   "metadata": {},
   "outputs": [],
   "source": [
    "fig.savefig(\"Figure.png\", dpi = 400)\n",
    "fig.savefig(\"Figure.pdf\", dpi = 200)"
   ]
  },
  {
   "cell_type": "code",
   "execution_count": null,
   "id": "e8951846",
   "metadata": {},
   "outputs": [],
   "source": [
    "axes[0, 1].set_xlim([-1, 1])\n",
    "fig.savefig(\"Figure_update.jpg\")\n",
    "fig"
   ]
  },
  {
   "cell_type": "code",
   "execution_count": null,
   "id": "b1d8f907",
   "metadata": {},
   "outputs": [],
   "source": [
    "fig, ax = subplots(figsize = (8, 8))\n",
    "x = np.linspace(-np.pi, np.pi, 50)\n",
    "y = x\n",
    "f = np.multiply.outer(np.cos(y), 1 / (1 + x**2))\n",
    "ax.contour(x, y, f)"
   ]
  },
  {
   "cell_type": "code",
   "execution_count": null,
   "id": "6f479d60",
   "metadata": {},
   "outputs": [],
   "source": [
    "fig, ax = subplots(figsize = (8, 8))\n",
    "x = np.linspace(-np.pi, np.pi, 50)\n",
    "y = x\n",
    "f = np.multiply.outer(np.cos(y), 1 / (1 + x**2))\n",
    "ax.contour(x, y, f);"
   ]
  },
  {
   "cell_type": "code",
   "execution_count": null,
   "id": "bb45b71d",
   "metadata": {},
   "outputs": [],
   "source": [
    "fig, ax = subplots(figsize= (8, 8))\n",
    "ax.contour(x, y, f, levels = 1000)"
   ]
  },
  {
   "cell_type": "code",
   "execution_count": null,
   "id": "41e60c04",
   "metadata": {},
   "outputs": [],
   "source": [
    "fig, ax = subplots(figsize = (8, 8))\n",
    "ax.imshow(f);"
   ]
  },
  {
   "cell_type": "code",
   "execution_count": null,
   "id": "aa618d22",
   "metadata": {},
   "outputs": [],
   "source": [
    "seq1 = np.linspace(0, 10, 11)\n",
    "seq1"
   ]
  },
  {
   "cell_type": "code",
   "execution_count": null,
   "id": "1d22b81e",
   "metadata": {},
   "outputs": [],
   "source": [
    "seq2 = np.arange(0, 10)\n",
    "seq2"
   ]
  },
  {
   "cell_type": "code",
   "execution_count": null,
   "id": "3d665c26",
   "metadata": {},
   "outputs": [],
   "source": [
    "\"hello world\"[3:6]"
   ]
  },
  {
   "cell_type": "code",
   "execution_count": null,
   "id": "4470bcd3",
   "metadata": {},
   "outputs": [],
   "source": [
    "\"hello world\"[slice(3, 6)]"
   ]
  },
  {
   "cell_type": "code",
   "execution_count": null,
   "id": "938163c8",
   "metadata": {},
   "outputs": [],
   "source": [
    "slice?"
   ]
  },
  {
   "cell_type": "code",
   "execution_count": null,
   "id": "3fe59d71",
   "metadata": {},
   "outputs": [],
   "source": [
    "A = np.array(np.arange(16)).reshape(4, 4)\n",
    "A"
   ]
  },
  {
   "cell_type": "code",
   "execution_count": null,
   "id": "fd835d17",
   "metadata": {},
   "outputs": [],
   "source": [
    "A[1, 2]"
   ]
  },
  {
   "cell_type": "code",
   "execution_count": null,
   "id": "26c9d51a",
   "metadata": {},
   "outputs": [],
   "source": [
    "A[[1, 3]]"
   ]
  },
  {
   "cell_type": "code",
   "execution_count": null,
   "id": "0165282f",
   "metadata": {},
   "outputs": [],
   "source": [
    "A[:, [0, 2]]"
   ]
  },
  {
   "cell_type": "code",
   "execution_count": null,
   "id": "d1c5a29e",
   "metadata": {},
   "outputs": [],
   "source": [
    "A[[1, 3], [0, 2]]"
   ]
  },
  {
   "cell_type": "code",
   "execution_count": null,
   "id": "d92d85ab",
   "metadata": {},
   "outputs": [],
   "source": [
    "np.array([A[1, 0], A[3, 2]])"
   ]
  },
  {
   "cell_type": "code",
   "execution_count": null,
   "id": "f7659369",
   "metadata": {},
   "outputs": [],
   "source": [
    "A[[1, 3], [0, 2, 3]]"
   ]
  },
  {
   "cell_type": "code",
   "execution_count": null,
   "id": "56453179",
   "metadata": {},
   "outputs": [],
   "source": [
    "A[[0,1]][:, [0, 1]]"
   ]
  },
  {
   "cell_type": "code",
   "execution_count": null,
   "id": "dc9519e1",
   "metadata": {},
   "outputs": [],
   "source": [
    "idx = np.ix_([1, 3], [0, 2, 3])\n",
    "A[idx]"
   ]
  },
  {
   "cell_type": "code",
   "execution_count": null,
   "id": "a83a7a95",
   "metadata": {},
   "outputs": [],
   "source": [
    "A"
   ]
  },
  {
   "cell_type": "code",
   "execution_count": null,
   "id": "6fe20026",
   "metadata": {},
   "outputs": [],
   "source": [
    "A[1:4:2, 0:3:2]"
   ]
  },
  {
   "cell_type": "code",
   "execution_count": null,
   "id": "3fc87aa0",
   "metadata": {},
   "outputs": [],
   "source": [
    "A[[1, 3]][:,[0, 2]]"
   ]
  },
  {
   "cell_type": "code",
   "execution_count": null,
   "id": "f01c610b",
   "metadata": {},
   "outputs": [],
   "source": [
    "keep_rows = np.zeros(A.shape[0], bool)\n",
    "keep_rows"
   ]
  },
  {
   "cell_type": "code",
   "execution_count": null,
   "id": "4266420a",
   "metadata": {},
   "outputs": [],
   "source": [
    "keep_rows[[1, 3]] = True\n",
    "keep_rows"
   ]
  },
  {
   "cell_type": "code",
   "execution_count": null,
   "id": "5ff2a957",
   "metadata": {},
   "outputs": [],
   "source": [
    "np.all(keep_rows == np.array([0, 1, 0, 1]))"
   ]
  },
  {
   "cell_type": "code",
   "execution_count": null,
   "id": "41c045c2",
   "metadata": {},
   "outputs": [],
   "source": [
    "keep_rows == np.array([0, 1, 0, 1])"
   ]
  },
  {
   "cell_type": "code",
   "execution_count": null,
   "id": "92f6f101",
   "metadata": {},
   "outputs": [],
   "source": [
    "A"
   ]
  },
  {
   "cell_type": "code",
   "execution_count": null,
   "id": "36144a77",
   "metadata": {},
   "outputs": [],
   "source": [
    "A[np.array([0, 1, 0 , 1])]"
   ]
  },
  {
   "cell_type": "code",
   "execution_count": null,
   "id": "289b719e",
   "metadata": {},
   "outputs": [],
   "source": [
    "A[keep_rows]"
   ]
  },
  {
   "cell_type": "code",
   "execution_count": null,
   "id": "ba065461",
   "metadata": {},
   "outputs": [],
   "source": [
    "keep_cols = np.zeros(A.shape[1], bool)"
   ]
  },
  {
   "cell_type": "code",
   "execution_count": null,
   "id": "937cb565",
   "metadata": {},
   "outputs": [],
   "source": [
    "keep_cols"
   ]
  },
  {
   "cell_type": "code",
   "execution_count": null,
   "id": "81975f09",
   "metadata": {},
   "outputs": [],
   "source": [
    "idx_mixed = np.ix_([1, 3], keep_cols)\n",
    "A[idx_mixed]"
   ]
  },
  {
   "cell_type": "code",
   "execution_count": null,
   "id": "b3fa99f5",
   "metadata": {},
   "outputs": [],
   "source": [
    "A"
   ]
  },
  {
   "cell_type": "code",
   "execution_count": null,
   "id": "fba9f839",
   "metadata": {},
   "outputs": [],
   "source": [
    "import pandas as pd\n",
    "Auto = pd.read_csv('Auto.csv')\n",
    "Auto"
   ]
  },
  {
   "cell_type": "code",
   "execution_count": null,
   "id": "8fd6fd0d",
   "metadata": {},
   "outputs": [],
   "source": [
    "Auto['horsepower']"
   ]
  },
  {
   "cell_type": "code",
   "execution_count": null,
   "id": "a65b8164",
   "metadata": {},
   "outputs": [],
   "source": [
    "np.unique(Auto['horsepower'])"
   ]
  },
  {
   "cell_type": "code",
   "execution_count": null,
   "id": "3ffe3185",
   "metadata": {},
   "outputs": [],
   "source": [
    "Auto = pd.read_csv('Auto.csv', na_values = ['?'])"
   ]
  },
  {
   "cell_type": "code",
   "execution_count": null,
   "id": "1f8bf7ae",
   "metadata": {},
   "outputs": [],
   "source": [
    "Auto['horsepower'].sum()"
   ]
  },
  {
   "cell_type": "code",
   "execution_count": null,
   "id": "1e2a239d",
   "metadata": {},
   "outputs": [],
   "source": [
    "Auto.shape"
   ]
  },
  {
   "cell_type": "code",
   "execution_count": null,
   "id": "c36612e0",
   "metadata": {},
   "outputs": [],
   "source": [
    "Auto_new = Auto.dropna()\n",
    "Auto_new.shape"
   ]
  },
  {
   "cell_type": "code",
   "execution_count": null,
   "id": "8bd5468c",
   "metadata": {},
   "outputs": [],
   "source": [
    "Auto = Auto_new # overwrite the previous value\n",
    "Auto.columns"
   ]
  },
  {
   "cell_type": "code",
   "execution_count": null,
   "id": "2b89adb2",
   "metadata": {},
   "outputs": [],
   "source": [
    "Auto[:3]"
   ]
  },
  {
   "cell_type": "code",
   "execution_count": null,
   "id": "d3ea255a",
   "metadata": {},
   "outputs": [],
   "source": [
    "idx_80 = Auto['year'] > 80\n",
    "Auto[idx_80]"
   ]
  },
  {
   "cell_type": "code",
   "execution_count": null,
   "id": "90c43920",
   "metadata": {},
   "outputs": [],
   "source": [
    "Auto[['mpg', 'horsepower']]"
   ]
  },
  {
   "cell_type": "code",
   "execution_count": null,
   "id": "670d375b",
   "metadata": {},
   "outputs": [],
   "source": [
    "Auto.index"
   ]
  },
  {
   "cell_type": "code",
   "execution_count": null,
   "id": "5858d679",
   "metadata": {},
   "outputs": [],
   "source": [
    "Auto_re = Auto.set_index('name')\n",
    "Auto_re"
   ]
  },
  {
   "cell_type": "code",
   "execution_count": null,
   "id": "a94fed89",
   "metadata": {},
   "outputs": [],
   "source": [
    "Auto_re.columns"
   ]
  },
  {
   "cell_type": "code",
   "execution_count": null,
   "id": "c73bcc81",
   "metadata": {},
   "outputs": [],
   "source": [
    "rows = ['amc rebel sst', 'ford torino']\n",
    "Auto_re.loc[rows]"
   ]
  },
  {
   "cell_type": "code",
   "execution_count": null,
   "id": "808572e1",
   "metadata": {},
   "outputs": [],
   "source": [
    "Auto_re.iloc[[3, 4]]"
   ]
  },
  {
   "cell_type": "code",
   "execution_count": null,
   "id": "47234e63",
   "metadata": {},
   "outputs": [],
   "source": [
    "Auto_re.iloc[:, [0, 2, 3]]"
   ]
  },
  {
   "cell_type": "code",
   "execution_count": null,
   "id": "4eb04ba9",
   "metadata": {},
   "outputs": [],
   "source": [
    "Auto_re.loc['ford galaxie 500', ['mpg', 'origin']]"
   ]
  },
  {
   "cell_type": "code",
   "execution_count": null,
   "id": "96b342b6",
   "metadata": {},
   "outputs": [],
   "source": [
    "idx_80 = Auto_re['year'] > 80\n",
    "Auto_re.loc[idx_80, ['weight', 'origin']]"
   ]
  },
  {
   "cell_type": "code",
   "execution_count": null,
   "id": "cc9f0428",
   "metadata": {},
   "outputs": [],
   "source": [
    "Auto_re.loc[lambda df: df['year'] > 80, ['weight', 'origin']]"
   ]
  },
  {
   "cell_type": "code",
   "execution_count": null,
   "id": "172ca42f",
   "metadata": {},
   "outputs": [],
   "source": [
    "Auto_re.loc[lambda df: (df['year'] > 80) & (df['mpg'] > 30), ['weight', 'origin']]"
   ]
  },
  {
   "cell_type": "code",
   "execution_count": null,
   "id": "5c9780b6",
   "metadata": {},
   "outputs": [],
   "source": [
    "Auto_re.loc[lambda df: (df['displacement'] < 300)\n",
    "                       & (df.index.str.contains('ford')\n",
    "                       | df.index.str.contains('datsun')),\n",
    "            ['weight', 'origin']\n",
    "           ]"
   ]
  },
  {
   "cell_type": "code",
   "execution_count": null,
   "id": "4378c3b3",
   "metadata": {},
   "outputs": [],
   "source": [
    "total = 0\n",
    "for value in [3, 2, 19]:\n",
    "    total += value\n",
    "print('Total is: {0}'.format(total))"
   ]
  },
  {
   "cell_type": "code",
   "execution_count": null,
   "id": "f22b5150",
   "metadata": {},
   "outputs": [],
   "source": [
    "total = 0\n",
    "for value in [2, 3, 19]:\n",
    "    for weight in [3, 2, 1]:\n",
    "        total += value * weight\n",
    "print('Total is {0}'.format(total))"
   ]
  },
  {
   "cell_type": "code",
   "execution_count": null,
   "id": "a98e64ba",
   "metadata": {},
   "outputs": [],
   "source": [
    "total = 0\n",
    "for value, weight in zip([2, 3, 19], [0.2, 0.3, 0.5]):\n",
    "    total += weight * value\n",
    "print('Weighted average is: {0}'.format(total))"
   ]
  },
  {
   "cell_type": "code",
   "execution_count": null,
   "id": "bb412211",
   "metadata": {},
   "outputs": [],
   "source": [
    "rng = np.random.default_rng(1)\n",
    "A = rng.standard_normal((127, 5))\n",
    "M = rng.choice([0, np.nan], p = [0.8, 0.2], size = A.shape)\n",
    "A += M\n",
    "D = pd.DataFrame(A, columns = ['food',\n",
    "                               'bar',\n",
    "                               'pickle',\n",
    "                               'snack',\n",
    "                               'popcorn'\n",
    "                              ]\n",
    "                )\n",
    "D[:3]"
   ]
  },
  {
   "cell_type": "code",
   "execution_count": null,
   "id": "afe60767",
   "metadata": {},
   "outputs": [],
   "source": [
    "for col in D.columns:\n",
    "    template = 'Column \"{0}\" has {1:.2%} missing values'\n",
    "    print(template.format(col, np.isnan(D[col]).mean()))"
   ]
  },
  {
   "cell_type": "code",
   "execution_count": null,
   "id": "647d55ba",
   "metadata": {},
   "outputs": [],
   "source": [
    "fig, ax = subplots(figsize = (8, 8))\n",
    "ax.plot(horsepower, mpg, 'o')"
   ]
  },
  {
   "cell_type": "code",
   "execution_count": null,
   "id": "10c0f44e",
   "metadata": {},
   "outputs": [],
   "source": [
    "fig, ax = subplots(figsize=(8, 8))\n",
    "ax.plot(Auto['horsepower'], Auto['mpg'], 'o');"
   ]
  },
  {
   "cell_type": "code",
   "execution_count": null,
   "id": "b4957f61",
   "metadata": {},
   "outputs": [],
   "source": [
    "ax = Auto.plot.scatter('horsepower', 'mpg');\n",
    "ax.set_title('Horsepower vs MPG')"
   ]
  },
  {
   "cell_type": "code",
   "execution_count": null,
   "id": "429e2006",
   "metadata": {},
   "outputs": [],
   "source": [
    "fig = ax.figure\n",
    "fig.savefig('horsepower_mpg.png')"
   ]
  },
  {
   "cell_type": "code",
   "execution_count": null,
   "id": "0af239e7",
   "metadata": {},
   "outputs": [],
   "source": [
    "fig, axes = subplots(ncols = 3, figsize = (15, 5))\n",
    "Auto.plot.scatter('horsepower', 'mpg', ax = axes[1])"
   ]
  },
  {
   "cell_type": "code",
   "execution_count": null,
   "id": "47d4e72f",
   "metadata": {},
   "outputs": [],
   "source": [
    "Auto.horsepower"
   ]
  },
  {
   "cell_type": "code",
   "execution_count": null,
   "id": "e38e7337",
   "metadata": {},
   "outputs": [],
   "source": [
    "Auto.cylinders = pd.Series(Auto.cylinders, dtype = 'category')\n",
    "Auto.cylinders.dtype"
   ]
  },
  {
   "cell_type": "code",
   "execution_count": null,
   "id": "41cef543",
   "metadata": {},
   "outputs": [],
   "source": [
    "fig, ax = subplots(figsize = (8, 8))\n",
    "Auto.boxplot('mpg', by = 'cylinders', ax = ax)"
   ]
  },
  {
   "cell_type": "code",
   "execution_count": null,
   "id": "3378274a",
   "metadata": {},
   "outputs": [],
   "source": [
    "fig, ax = subplots(figsize = (8, 8))\n",
    "Auto.hist('mpg', ax=ax)"
   ]
  },
  {
   "cell_type": "code",
   "execution_count": null,
   "id": "336ced51",
   "metadata": {},
   "outputs": [],
   "source": [
    "fig, ax = subplots(figsize = (8, 8))\n",
    "Auto.hist('mpg', color = 'red', bins = 12, ax = ax)"
   ]
  },
  {
   "cell_type": "code",
   "execution_count": null,
   "id": "78d0de44",
   "metadata": {},
   "outputs": [],
   "source": [
    "pd.plotting.scatter_matrix(Auto);"
   ]
  },
  {
   "cell_type": "code",
   "execution_count": null,
   "id": "0c74fcb4",
   "metadata": {},
   "outputs": [],
   "source": [
    "pd.plotting.scatter_matrix(Auto[['mpg',\n",
    "                                 'displacement',\n",
    "                                 'weight'\n",
    "                                ]])"
   ]
  },
  {
   "cell_type": "code",
   "execution_count": null,
   "id": "9f5b07a6",
   "metadata": {},
   "outputs": [],
   "source": [
    "Auto[['mpg', 'weight']].describe()"
   ]
  },
  {
   "cell_type": "code",
   "execution_count": null,
   "id": "ecda0b65",
   "metadata": {},
   "outputs": [],
   "source": [
    "Auto['cylinders'].describe()\n",
    "Auto['mpg'].describe()"
   ]
  },
  {
   "cell_type": "code",
   "execution_count": 7,
   "id": "2f448d70",
   "metadata": {},
   "outputs": [
    {
     "ename": "TypeError",
     "evalue": "chdir() missing required argument 'path' (pos 1)",
     "output_type": "error",
     "traceback": [
      "\u001b[0;31m---------------------------------------------------------------------------\u001b[0m",
      "\u001b[0;31mTypeError\u001b[0m                                 Traceback (most recent call last)",
      "\u001b[0;32m<ipython-input-7-44ee11a8d64d>\u001b[0m in \u001b[0;36m<module>\u001b[0;34m\u001b[0m\n\u001b[1;32m      1\u001b[0m \u001b[0;32mimport\u001b[0m \u001b[0mos\u001b[0m\u001b[0;34m\u001b[0m\u001b[0;34m\u001b[0m\u001b[0m\n\u001b[0;32m----> 2\u001b[0;31m \u001b[0mos\u001b[0m\u001b[0;34m.\u001b[0m\u001b[0mchdir\u001b[0m\u001b[0;34m(\u001b[0m\u001b[0;34m)\u001b[0m\u001b[0;34m\u001b[0m\u001b[0;34m\u001b[0m\u001b[0m\n\u001b[0m",
      "\u001b[0;31mTypeError\u001b[0m: chdir() missing required argument 'path' (pos 1)"
     ]
    }
   ],
   "source": [
    "import os\n",
    "os.chdir('home/brian/github')"
   ]
  },
  {
   "cell_type": "code",
   "execution_count": null,
   "id": "9ff9b895",
   "metadata": {},
   "outputs": [],
   "source": []
  }
 ],
 "metadata": {
  "kernelspec": {
   "display_name": "Python 3",
   "language": "python",
   "name": "python3"
  },
  "language_info": {
   "codemirror_mode": {
    "name": "ipython",
    "version": 3
   },
   "file_extension": ".py",
   "mimetype": "text/x-python",
   "name": "python",
   "nbconvert_exporter": "python",
   "pygments_lexer": "ipython3",
   "version": "3.8.8"
  }
 },
 "nbformat": 4,
 "nbformat_minor": 5
}
